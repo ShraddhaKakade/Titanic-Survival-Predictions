{
 "cells": [
  {
   "cell_type": "code",
   "execution_count": 1,
   "metadata": {},
   "outputs": [],
   "source": [
    "# Importing libreries\n",
    "\n",
    "import pandas as pd\n",
    "import numpy as np\n",
    "import matplotlib.pyplot as plt\n",
    "import os\n",
    "import seaborn as sns\n",
    "from ipywidgets import widgets\n",
    "from sklearn.metrics import fbeta_score, make_scorer\n",
    "from sklearn.model_selection import GridSearchCV\n",
    "from sklearn.ensemble import RandomForestClassifier\n",
    "from sklearn.model_selection import train_test_split, cross_val_score\n",
    "from sklearn.metrics import accuracy_score\n",
    "import warnings\n",
    "import pickle\n",
    "warnings.filterwarnings('ignore')"
   ]
  },
  {
   "cell_type": "code",
   "execution_count": 2,
   "metadata": {},
   "outputs": [],
   "source": [
    "# Load data\n",
    "\n",
    "train_data = pd.read_csv('train.csv')\n",
    "test_in_data = pd.read_csv('test_in.csv')\n",
    "test_out_data = pd.read_csv('test_out.csv')"
   ]
  },
  {
   "cell_type": "code",
   "execution_count": 3,
   "metadata": {},
   "outputs": [
    {
     "name": "stdout",
     "output_type": "stream",
     "text": [
      "Rows/Instances: 891\n",
      "\n",
      "Columns/Features: 12\n",
      "\n",
      "Column Names: Index(['PassengerId', 'Survived', 'Pclass', 'Name', 'Sex', 'Age', 'SibSp',\n",
      "       'Parch', 'Ticket', 'Fare', 'Cabin', 'Embarked'],\n",
      "      dtype='object')\n",
      "\n",
      "Total missing values: 866\n",
      "\n",
      "Unique values: \n",
      "PassengerId    891\n",
      "Survived         2\n",
      "Pclass           3\n",
      "Name           891\n",
      "Sex              2\n",
      "Age             88\n",
      "SibSp            7\n",
      "Parch            7\n",
      "Ticket         681\n",
      "Fare           248\n",
      "Cabin          147\n",
      "Embarked         3\n",
      "dtype: int64\n"
     ]
    }
   ],
   "source": [
    "# Overview of dataset\n",
    "\n",
    "print(f\"Rows/Instances: {train_data.shape[0]}\")\n",
    "print(f\"\\nColumns/Features: {train_data.shape[1]}\")\n",
    "print(f\"\\nColumn Names: {train_data.columns}\")\n",
    "print(f\"\\nTotal missing values: {train_data.isnull().values.sum()}\")\n",
    "print(f\"\\nUnique values: \\n{train_data.nunique()}\")"
   ]
  },
  {
   "cell_type": "code",
   "execution_count": 4,
   "metadata": {},
   "outputs": [
    {
     "name": "stdout",
     "output_type": "stream",
     "text": [
      "PassengerId - 0\n",
      "Survived - 0\n",
      "Pclass - 0\n",
      "Name - 0\n",
      "Sex - 0\n",
      "Age - 177\n",
      "SibSp - 0\n",
      "Parch - 0\n",
      "Ticket - 0\n",
      "Fare - 0\n",
      "Cabin - 687\n",
      "Embarked - 2\n"
     ]
    }
   ],
   "source": [
    "# Number of Missing Values\n",
    "\n",
    "column_names = train_data.columns\n",
    "for column in column_names:\n",
    "    print(column + ' - ' + str(train_data[column].isnull().sum()))"
   ]
  },
  {
   "cell_type": "code",
   "execution_count": 5,
   "metadata": {},
   "outputs": [],
   "source": [
    "# Age is not correlated with 'Sex' and 'Fare'\n",
    "# Filling Age with the median age of similar rows from 'Pclass', 'SibSp' and 'Parch'\n",
    "# If there are no similar rows, fill the age with the median age of total dataset\n",
    "\n",
    "NaN_indexes = train_data['Age'][train_data['Age'].isnull()].index\n",
    "for i in NaN_indexes:\n",
    "    pred_age = train_data['Age'][((train_data.SibSp == train_data.iloc[i][\"SibSp\"]) & (train_data.Parch == train_data.iloc[i][\"Parch\"]) & (train_data.Pclass == train_data.iloc[i][\"Pclass\"]))].median()\n",
    "    if not np.isnan(pred_age):\n",
    "        train_data['Age'].iloc[i] = pred_age\n",
    "    else:\n",
    "        train_data['Age'].iloc[i] = train_data['Age'].median()\n",
    "        \n",
    "NaN_indexes = test_in_data['Age'][test_in_data['Age'].isnull()].index\n",
    "for i in NaN_indexes:\n",
    "    pred_age = test_in_data['Age'][((test_in_data.SibSp == test_in_data.iloc[i][\"SibSp\"]) & (test_in_data.Parch == test_in_data.iloc[i][\"Parch\"]) & (test_in_data.Pclass == test_in_data.iloc[i][\"Pclass\"]))].median()\n",
    "    if not np.isnan(pred_age):\n",
    "        test_in_data['Age'].iloc[i] = pred_age\n",
    "    else:\n",
    "        test_in_data['Age'].iloc[i] = test_in_data['Age'].median()"
   ]
  },
  {
   "cell_type": "code",
   "execution_count": 6,
   "metadata": {},
   "outputs": [],
   "source": [
    "# Drop 'Ticket', 'PassengerId', 'Name', 'SibSp', 'Parch', 'Fare', 'Embarked' and 'Cabin' columns\n",
    "\n",
    "train_data = train_data.drop(columns=['Ticket', 'PassengerId', 'Cabin', 'Name', 'SibSp', 'Parch', 'Fare', 'Embarked'])\n",
    "test_in_data = test_in_data.drop(columns=['Ticket', 'PassengerId', 'Cabin', 'Name', 'SibSp', 'Parch', 'Fare', 'Embarked'])"
   ]
  },
  {
   "cell_type": "code",
   "execution_count": 7,
   "metadata": {},
   "outputs": [],
   "source": [
    "# Convert 'Sex' to Numerical Value\n",
    "\n",
    "train_data['Sex'] = train_data['Sex'].map({'male':0, 'female':1})\n",
    "test_in_data['Sex'] = test_in_data['Sex'].map({'male':0, 'female':1})"
   ]
  },
  {
   "cell_type": "code",
   "execution_count": 8,
   "metadata": {},
   "outputs": [],
   "source": [
    "# Building Model\n",
    "\n",
    "X_train = train_data.drop(\"Survived\", axis=1)\n",
    "Y_train = train_data[\"Survived\"]\n",
    "X_test  = test_in_data"
   ]
  },
  {
   "cell_type": "code",
   "execution_count": 10,
   "metadata": {},
   "outputs": [
    {
     "data": {
      "text/plain": [
       "88.44"
      ]
     },
     "execution_count": 10,
     "metadata": {},
     "output_type": "execute_result"
    }
   ],
   "source": [
    "random_forest = RandomForestClassifier(n_estimators=100)\n",
    "random_forest.fit(X_train, Y_train)\n",
    "\n",
    "Y_prediction = random_forest.predict(X_test)\n",
    "\n",
    "random_forest.score(X_train, Y_train)\n",
    "acc_random_forest = round(random_forest.score(X_train, Y_train) * 100, 2)\n",
    "\n",
    "acc_random_forest"
   ]
  }
 ],
 "metadata": {
  "kernelspec": {
   "display_name": "Python 3",
   "language": "python",
   "name": "python3"
  },
  "language_info": {
   "codemirror_mode": {
    "name": "ipython",
    "version": 3
   },
   "file_extension": ".py",
   "mimetype": "text/x-python",
   "name": "python",
   "nbconvert_exporter": "python",
   "pygments_lexer": "ipython3",
   "version": "3.8.3"
  }
 },
 "nbformat": 4,
 "nbformat_minor": 4
}
